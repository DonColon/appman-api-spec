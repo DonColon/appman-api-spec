{
 "cells": [
  {
   "cell_type": "markdown",
   "metadata": {},
   "source": [
    "# Extraktion der Länder- und Dialingcodes\n",
    "Dieses Notebook extrahiert aus der Dokumentation von [checkout.com](https://docs.checkout.com/resources/codes/country-codes) die Länder- und Dialingcodes für jedes Land und speichert sie in einem CSV."
   ]
  },
  {
   "cell_type": "code",
   "execution_count": null,
   "metadata": {
    "collapsed": true
   },
   "outputs": [],
   "source": [
    "from bs4 import BeautifulSoup\n",
    "import requests\n",
    "import pandas"
   ]
  },
  {
   "cell_type": "code",
   "execution_count": null,
   "metadata": {},
   "outputs": [],
   "source": [
    "response = requests.get(\"https://docs.checkout.com/resources/codes/country-codes\")\n",
    "\n",
    "htmlContent = response.text\n",
    "\n",
    "htmlContent"
   ]
  },
  {
   "cell_type": "code",
   "execution_count": null,
   "metadata": {},
   "outputs": [],
   "source": [
    "soup = BeautifulSoup(htmlContent, \"html5lib\")\n",
    "table = soup.table\n",
    "\n",
    "table"
   ]
  },
  {
   "cell_type": "code",
   "execution_count": null,
   "metadata": {},
   "outputs": [],
   "source": [
    "headers = []\n",
    "\n",
    "for header in table.find_all(\"th\"):\n",
    "    headers.append(header.text)\n",
    "    \n",
    "headers"
   ]
  },
  {
   "cell_type": "code",
   "execution_count": null,
   "metadata": {},
   "outputs": [],
   "source": [
    "rows = []\n",
    "\n",
    "for row in table.find_all(\"tr\"):\n",
    "    rows.append(row)\n",
    "    \n",
    "del rows[0]    \n",
    "\n",
    "rows"
   ]
  },
  {
   "cell_type": "code",
   "execution_count": null,
   "metadata": {},
   "outputs": [],
   "source": [
    "data = []\n",
    "\n",
    "for row in rows:\n",
    "    dataSet = {}\n",
    "    i = 0\n",
    "    for column in row.find_all(\"td\"):\n",
    "        dataSet[headers[i]] = column.text\n",
    "        i += 1\n",
    "        \n",
    "    data.append(dataSet)\n",
    "    \n",
    "data"
   ]
  },
  {
   "cell_type": "code",
   "execution_count": null,
   "metadata": {},
   "outputs": [],
   "source": [
    "dataframe = pandas.DataFrame(data)\n",
    "\n",
    "dataframe = dataframe.loc[:,[\"ISO2\", \"ISO3\", \"Country\", \"Dialing code\"]]\n",
    "\n",
    "dataframe.head()"
   ]
  },
  {
   "cell_type": "code",
   "execution_count": null,
   "metadata": {},
   "outputs": [],
   "source": [
    "def appendPlusSign(value):\n",
    "    return \"+\" + value\n",
    "\n",
    "dataframe[\"Dialing code\"] = dataframe[\"Dialing code\"].apply(appendPlusSign)\n",
    "\n",
    "dataframe.head()"
   ]
  },
  {
   "cell_type": "code",
   "execution_count": null,
   "metadata": {},
   "outputs": [],
   "source": [
    "headers = {\n",
    "    \"ISO2\": \"code\",\n",
    "    \"ISO3\": \"key\",\n",
    "    \"Country\": \"name\",\n",
    "    \"Dialing code\": \"dialingCode\"\n",
    "}\n",
    "\n",
    "dataframe = dataframe.rename(columns=headers)\n",
    "\n",
    "dataframe.head()"
   ]
  },
  {
   "cell_type": "code",
   "execution_count": null,
   "metadata": {
    "collapsed": true
   },
   "outputs": [],
   "source": [
    "dataframe.to_csv(\"C:\\\\temp\\\\country.csv\", index=False)"
   ]
  }
 ],
 "metadata": {
  "kernelspec": {
   "display_name": "Python 3",
   "language": "python",
   "name": "python3"
  },
  "language_info": {
   "codemirror_mode": {
    "name": "ipython",
    "version": 3
   },
   "file_extension": ".py",
   "mimetype": "text/x-python",
   "name": "python",
   "nbconvert_exporter": "python",
   "pygments_lexer": "ipython3",
   "version": "3.6.1"
  }
 },
 "nbformat": 4,
 "nbformat_minor": 2
}
